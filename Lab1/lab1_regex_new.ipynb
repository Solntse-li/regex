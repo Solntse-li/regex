{
 "cells": [
  {
   "cell_type": "code",
   "execution_count": null,
   "metadata": {},
   "outputs": [],
   "source": [
    "import re\n",
    " \n",
    "fin = open('input.txt', 'r')\n",
    "fout = open('output.txt', 'w')\n",
    "servers = {}\n",
    "line = fin.readline()\n",
    "while line:\n",
    "    if len(line) <= 63:\n",
    "        result = re.match(r'nfs://[a-zA-Z]+/[a-zA-Z]+(/[a-zA-Z]+)*', line)\n",
    "        if result: \n",
    "            fout.write('String is valid\\n')\n",
    "            server = re.match(r'nfs://[a-zA-Z]+', line) \n",
    "            if server.group(0) in servers: \n",
    "                servers[server.group(0)] += 1\n",
    "            else:\n",
    "                servers[server.group(0)] = 1 \n",
    "        else:\n",
    "            fout.write('String is invalid\\n')\n",
    "    else:\n",
    "        fout.write('String is invalid\\n')\n",
    "    line = fin.readline()\n",
    " \n",
    "print(servers)\n",
    "fin.close()\n",
    "fout.close()"
   ]
  }
 ],
 "metadata": {
  "kernelspec": {
   "display_name": "Python 3",
   "language": "python",
   "name": "python3"
  },
  "language_info": {
   "codemirror_mode": {
    "name": "ipython",
    "version": 3
   },
   "file_extension": ".py",
   "mimetype": "text/x-python",
   "name": "python",
   "nbconvert_exporter": "python",
   "pygments_lexer": "ipython3",
   "version": "3.8.5"
  }
 },
 "nbformat": 4,
 "nbformat_minor": 4
}
